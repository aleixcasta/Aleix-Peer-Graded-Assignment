{
  "metadata": {
    "kernelspec": {
      "name": "python",
      "display_name": "Pyolite",
      "language": "python"
    },
    "language_info": {
      "codemirror_mode": {
        "name": "python",
        "version": 3
      },
      "file_extension": ".py",
      "mimetype": "text/x-python",
      "name": "python",
      "nbconvert_exporter": "python",
      "pygments_lexer": "ipython3",
      "version": "3.8"
    }
  },
  "nbformat_minor": 4,
  "nbformat": 4,
  "cells": [
    {
      "cell_type": "markdown",
      "source": "# My Jupyter Notebook on IBM Watson Studio",
      "metadata": {}
    },
    {
      "cell_type": "markdown",
      "source": "**Aleix Castanyer Pagès**\n\nJunior Accountant",
      "metadata": {}
    },
    {
      "cell_type": "markdown",
      "source": "_I am interested in data science because it can be a great complement to my university studies in economics, and I think that there will be a lot of job opportunities related to data in the business field_",
      "metadata": {}
    },
    {
      "cell_type": "markdown",
      "source": "### The code calculates the sum of the first 6 senar numbers",
      "metadata": {}
    },
    {
      "cell_type": "code",
      "source": "1 + 3 + 5 + 7 + 9 + 11",
      "metadata": {
        "trusted": true
      },
      "execution_count": 6,
      "outputs": [
        {
          "execution_count": 6,
          "output_type": "execute_result",
          "data": {
            "text/plain": "36"
          },
          "metadata": {}
        }
      ]
    },
    {
      "cell_type": "markdown",
      "source": "##### Top three football stadiums\n_________\n1. [Camp Nou](https://es.wikipedia.org/wiki/Camp_Nou)\n1. [Stamford Bridge](https://es.wikipedia.org/wiki/Stamford_Bridge_(estadio))\n1. [Parc des Princes](https://es.wikipedia.org/wiki/Parque_de_los_Pr%C3%ADncipes)",
      "metadata": {
        "tags": []
      }
    }
  ]
}